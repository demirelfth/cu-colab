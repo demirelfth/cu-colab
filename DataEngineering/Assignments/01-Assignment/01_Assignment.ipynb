{
  "nbformat": 4,
  "nbformat_minor": 0,
  "metadata": {
    "colab": {
      "provenance": []
    },
    "kernelspec": {
      "name": "python3",
      "display_name": "Python 3"
    },
    "language_info": {
      "name": "python"
    }
  },
  "cells": [
    {
      "cell_type": "markdown",
      "source": [
        "# İkinci El Araba Fiyatı Tahmini"
      ],
      "metadata": {
        "id": "S19GGY-N_7-Z"
      }
    },
    {
      "cell_type": "code",
      "source": [
        "import torch\n",
        "import numpy as np\n",
        "import pandas as pd\n",
        "import torch.optim as optim\n",
        "import matplotlib.pyplot as plt"
      ],
      "metadata": {
        "id": "iGxdvUhVAU_u"
      },
      "execution_count": 75,
      "outputs": []
    },
    {
      "cell_type": "code",
      "source": [
        "%cd /content/sample_data\n",
        "\n",
        "cars=pd.read_csv('train.csv')"
      ],
      "metadata": {
        "colab": {
          "base_uri": "https://localhost:8080/"
        },
        "id": "K-mjfXokA8hu",
        "outputId": "63bc98e2-514b-4e8f-becf-26774f763225"
      },
      "execution_count": 76,
      "outputs": [
        {
          "output_type": "stream",
          "name": "stdout",
          "text": [
            "/content/sample_data\n"
          ]
        }
      ]
    },
    {
      "cell_type": "code",
      "source": [
        "marka=[]\n",
        "for i in range(cars.shape[0]):\n",
        "  marka.append(cars['Name'][i].split()[0])"
      ],
      "metadata": {
        "id": "ZGrOc8Q7BR9k"
      },
      "execution_count": 77,
      "outputs": []
    },
    {
      "cell_type": "code",
      "source": [
        "marka_one_hot     = pd.get_dummies(marka,dtype=float)\n",
        "location_one_hot  = pd.get_dummies(cars['Location'],dtype=float)\n",
        "age               = 2024-cars['Year']\n",
        "fuel_one_hot      = pd.get_dummies(cars['Fuel_Type'],dtype=float)\n",
        "trans_one_hot     = pd.get_dummies(cars['Transmission'],dtype=float)\n",
        "owner_one_hot     = pd.get_dummies(cars['Owner_Type'],dtype=float)"
      ],
      "metadata": {
        "id": "RauOqF1NCO66"
      },
      "execution_count": 78,
      "outputs": []
    },
    {
      "cell_type": "code",
      "source": [
        "mil=[]\n",
        "for i in range(cars.shape[0]):\n",
        "  try:\n",
        "    mil.append(float(cars['Mileage'][i].split()[0]))\n",
        "  except:\n",
        "    mil.append(np.mean(mil))"
      ],
      "metadata": {
        "id": "gQiuM8zGEiDo"
      },
      "execution_count": 79,
      "outputs": []
    },
    {
      "cell_type": "code",
      "source": [
        "engine=[]\n",
        "for i in range(cars.shape[0]):\n",
        "  try:\n",
        "    engine.append(float(cars['Engine'][i].split()[0]))\n",
        "  except:\n",
        "    engine.append(np.mean(engine))"
      ],
      "metadata": {
        "id": "X-W3EWrWEpsC"
      },
      "execution_count": 80,
      "outputs": []
    },
    {
      "cell_type": "code",
      "source": [
        "power=[]\n",
        "for i in range(cars.shape[0]):\n",
        "  try:\n",
        "    power.append(float(cars['Power'][i].split()[0]))\n",
        "  except:\n",
        "    power.append(np.mean(power))"
      ],
      "metadata": {
        "id": "iVRt5QGyHlju"
      },
      "execution_count": 81,
      "outputs": []
    },
    {
      "cell_type": "code",
      "source": [
        "seats=[]\n",
        "for i in range(cars.shape[0]) :\n",
        "  if np.isnan(cars['Seats'][i]) or cars['Seats'][i]==0:\n",
        "    seats.append(np.mean(seats))\n",
        "  else:\n",
        "    seats.append(cars['Seats'][i])"
      ],
      "metadata": {
        "id": "sQx4K8j2Hq--"
      },
      "execution_count": 82,
      "outputs": []
    },
    {
      "cell_type": "code",
      "source": [
        "veri=pd.concat([marka_one_hot,\n",
        "                location_one_hot,\n",
        "                age,\n",
        "                cars['Kilometers_Driven'],\n",
        "                fuel_one_hot,\n",
        "                trans_one_hot,\n",
        "                owner_one_hot,\n",
        "                pd.Series(mil),\n",
        "                pd.Series(engine),\n",
        "                pd.Series(power),\n",
        "                pd.Series(seats)],\n",
        "               axis=1)"
      ],
      "metadata": {
        "id": "LgZ4P27nHytm"
      },
      "execution_count": 83,
      "outputs": []
    },
    {
      "cell_type": "code",
      "source": [
        "# İlk 4000 satırı eğitim seti olarak alalım, kalanları test seti yapalım\n",
        "X_train = veri[:4000]\n",
        "X_test = veri[4000:]\n",
        "y_train = cars['Price'][:4000]\n",
        "y_test = cars['Price'][4000:]\n",
        "\n",
        "# Verileri torch tensorlerine çevir\n",
        "veri_torch_train = torch.from_numpy(np.array(X_train)).float()\n",
        "veri_torch_test = torch.from_numpy(np.array(X_test)).float()\n",
        "hedef_torch_train = torch.from_numpy(np.array(y_train)).float()\n",
        "hedef_torch_test = torch.from_numpy(np.array(y_test)).float()"
      ],
      "metadata": {
        "id": "CQOJQeYQIMQY"
      },
      "execution_count": 84,
      "outputs": []
    },
    {
      "cell_type": "code",
      "source": [
        "def model(X,W,b):\n",
        "  return X@W+b\n",
        "  #return torch.matmul(X,W)+b"
      ],
      "metadata": {
        "id": "UAYNgNT5JrLr"
      },
      "execution_count": 85,
      "outputs": []
    },
    {
      "cell_type": "code",
      "source": [
        "def kayip_fonk(tahmin,gercek):\n",
        "  farklar_karesi=(tahmin-gercek)**2\n",
        "  return farklar_karesi.mean()"
      ],
      "metadata": {
        "id": "GW4qYpXGJwix"
      },
      "execution_count": 86,
      "outputs": []
    },
    {
      "cell_type": "code",
      "source": [
        "#Baslangic W ve b degerleri oluşturalim\n",
        "W=torch.ones(veri_torch_train.shape[1],requires_grad=True)\n",
        "b=torch.tensor([0.0],requires_grad=True)"
      ],
      "metadata": {
        "id": "Mqr5bBAiJ9BV"
      },
      "execution_count": 87,
      "outputs": []
    },
    {
      "cell_type": "code",
      "source": [
        "optim_araci=optim.Adam([W,b],lr=0.01)"
      ],
      "metadata": {
        "id": "zoHgg9A3KGhX"
      },
      "execution_count": 88,
      "outputs": []
    },
    {
      "cell_type": "code",
      "source": [
        "kayip_list=[]\n",
        "for epoch in range(10000):\n",
        "  tahmin=model(veri_torch_train,W,b)\n",
        "  kayip=kayip_fonk(tahmin,hedef_torch_train)\n",
        "\n",
        "  kayip.backward()\n",
        "  optim_araci.step()\n",
        "  optim_araci.zero_grad()\n",
        "\n",
        "  #print(f'Epoch: {epoch} icin kayip miktari: {kayip:.3f}')\n",
        "  kayip_list.append(kayip.item())"
      ],
      "metadata": {
        "id": "XtQE_WGZKfuJ"
      },
      "execution_count": 89,
      "outputs": []
    },
    {
      "cell_type": "code",
      "source": [
        "plt.plot(torch.arange(10000),kayip_list)\n",
        "plt.xlabel('iterasyon sayisi')\n",
        "plt.ylabel('kayip miktari')\n",
        "plt.show()"
      ],
      "metadata": {
        "colab": {
          "base_uri": "https://localhost:8080/",
          "height": 465
        },
        "id": "pgGegX0JKrtB",
        "outputId": "1705df63-2920-446b-baf2-b0ae7dfdebfb"
      },
      "execution_count": 90,
      "outputs": [
        {
          "output_type": "display_data",
          "data": {
            "text/plain": [
              "<Figure size 640x480 with 1 Axes>"
            ],
            "image/png": "[encoded data removed]"
          },
          "metadata": {}
        }
      ]
    },
    {
      "cell_type": "code",
      "source": [
        "# test verimizde tahmin yapalım\n",
        "with torch.no_grad():   # grad hesabını test aşamasında kullanmamak daha faydalı\n",
        "    tahmin_test = model(veri_torch_test, W, b)\n",
        "\n",
        "# Mean Squared Error hesaplayalım\n",
        "mse = kayip_fonk(tahmin_test, hedef_torch_test)\n",
        "print(f'Test Seti İçin MSE: {mse:.3f}')\n",
        "\n",
        "# Tahmin edilen sonuçları numpy dizisine dönüştürelim\n",
        "tahmin_test_np = tahmin_test.numpy()\n",
        "\n",
        "# Gerçek test değerleriyle birlikte karşılaştıralım\n",
        "gercek_test_np = hedef_torch_test.numpy()\n",
        "\n",
        "# İlk 10 tahmin ile gerçek fiyatları karşılaştıralım\n",
        "for i in range(10):\n",
        "    print(f\"Gerçek Fiyat: {gercek_test_np[i]:.2f}, Tahmin Edilen Fiyat: {tahmin_test_np[i]:.2f}\")"
      ],
      "metadata": {
        "colab": {
          "base_uri": "https://localhost:8080/"
        },
        "id": "-xKqdUfTOIau",
        "outputId": "6f418c52-19b0-41fb-ad2f-563e5aaae2a5"
      },
      "execution_count": 91,
      "outputs": [
        {
          "output_type": "stream",
          "name": "stdout",
          "text": [
            "Test Seti İçin MSE: 43.749\n",
            "Gerçek Fiyat: 1.80, Tahmin Edilen Fiyat: 2.44\n",
            "Gerçek Fiyat: 6.25, Tahmin Edilen Fiyat: 17.21\n",
            "Gerçek Fiyat: 5.45, Tahmin Edilen Fiyat: 5.86\n",
            "Gerçek Fiyat: 52.50, Tahmin Edilen Fiyat: 25.73\n",
            "Gerçek Fiyat: 5.60, Tahmin Edilen Fiyat: 10.29\n",
            "Gerçek Fiyat: 6.45, Tahmin Edilen Fiyat: 8.14\n",
            "Gerçek Fiyat: 3.70, Tahmin Edilen Fiyat: 3.69\n",
            "Gerçek Fiyat: 3.49, Tahmin Edilen Fiyat: 4.14\n",
            "Gerçek Fiyat: 3.55, Tahmin Edilen Fiyat: 5.03\n",
            "Gerçek Fiyat: 9.00, Tahmin Edilen Fiyat: 17.46\n"
          ]
        }
      ]
    },
    {
      "cell_type": "code",
      "source": [
        "# Yeni bir araba verisi\n",
        "yeni_araba = {\n",
        "    'Name': 'Toyota Corolla',\n",
        "    'Location': 'Pune',\n",
        "    'Year': 2020,\n",
        "    'Kilometers_Driven': 30000,\n",
        "    'Fuel_Type': 'Petrol',\n",
        "    'Transmission': 'Manual',\n",
        "    'Owner_Type': 'First',\n",
        "    'Mileage': '15.0 kmpl',\n",
        "    'Engine': '1500 CC',\n",
        "    'Power': '100 bhp',\n",
        "    'Seats': 5,\n",
        "    'New_Price': '7.03 Lakh',\n",
        "    'Price': 6.5\n",
        "}"
      ],
      "metadata": {
        "id": "IgopfbWHQfpY"
      },
      "execution_count": 92,
      "outputs": []
    },
    {
      "cell_type": "code",
      "source": [
        "marka_one_hot_yeni        = pd.get_dummies([yeni_araba['Name'].split()[0]], dtype=float).reindex(columns=marka_one_hot.columns, fill_value=0.0)\n",
        "location_one_hot_yeni     = pd.DataFrame(0, index=[0], columns=location_one_hot.columns)\n",
        "age_yeni                  = pd.Series([2024 - yeni_araba['Year']])\n",
        "fuel_one_hot_yeni         = pd.get_dummies([yeni_araba['Fuel_Type']], dtype=float).reindex(columns=fuel_one_hot.columns, fill_value=0.0)\n",
        "trans_one_hot_yeni        = pd.get_dummies([yeni_araba['Transmission']], dtype=float).reindex(columns=trans_one_hot.columns, fill_value=0.0)\n",
        "owner_one_hot_yeni        = pd.get_dummies([yeni_araba['Owner_Type']], dtype=float).reindex(columns=owner_one_hot.columns, fill_value=0.0)\n",
        "\n",
        "kilometers_yeni           = pd.Series([yeni_araba['Kilometers_Driven']])\n",
        "mileage_yeni              = pd.Series([float(yeni_araba['Mileage'].split()[0])])\n",
        "engine_yeni               = pd.Series([float(yeni_araba['Engine'].split()[0])])\n",
        "power_yeni                = pd.Series([float(yeni_araba['Power'].split()[0])])\n",
        "seats_yeni                = pd.Series([float(yeni_araba['Seats'])])\n",
        "\n",
        "# Tüm yeni araba verilerini bir araya getiriyoruz\n",
        "yeni_araba_veri = pd.concat([\n",
        "    marka_one_hot_yeni.reset_index(drop=True),\n",
        "    location_one_hot_yeni.reset_index(drop=True),\n",
        "    age_yeni.reset_index(drop=True, name='Age'),\n",
        "    kilometers_yeni.reset_index(drop=True, name='Kilometers_Driven'),\n",
        "    fuel_one_hot_yeni.reset_index(drop=True),\n",
        "    trans_one_hot_yeni.reset_index(drop=True),\n",
        "    owner_one_hot_yeni.reset_index(drop=True),\n",
        "    mileage_yeni.reset_index(drop=True, name='Mileage'),\n",
        "    engine_yeni.reset_index(drop=True, name='Engine'),\n",
        "    power_yeni.reset_index(drop=True, name='Power'),\n",
        "    seats_yeni.reset_index(drop=True, name='Seats')\n",
        "], axis=1)\n",
        "\n",
        "yeni_araba_torch = torch.from_numpy(np.array(yeni_araba_veri)).float()"
      ],
      "metadata": {
        "id": "apGtIw6oRY7o"
      },
      "execution_count": 93,
      "outputs": []
    },
    {
      "cell_type": "code",
      "source": [
        "with torch.no_grad():\n",
        "    tahmin_yeni_araba = model(yeni_araba_torch, W, b)\n",
        "\n",
        "print(f\"Yeni araba için tahmin edilen fiyat: {tahmin_yeni_araba.item():.2f}\")"
      ],
      "metadata": {
        "colab": {
          "base_uri": "https://localhost:8080/"
        },
        "id": "PzhyhMLEV0q_",
        "outputId": "b47818d7-23af-48df-b664-4c78d5255701"
      },
      "execution_count": 94,
      "outputs": [
        {
          "output_type": "stream",
          "name": "stdout",
          "text": [
            "Yeni araba için tahmin edilen fiyat: 9.16\n"
          ]
        }
      ]
    },
    {
      "cell_type": "code",
      "source": [
        "# Benzer arabalara filtre uygula\n",
        "benzer_arabalar = cars[\n",
        "    (cars['Name'].str.contains('Toyota')) &\n",
        "    # (cars['Year'] == 2020) &\n",
        "    (cars['Kilometers_Driven'] <= 35000) &  # 30,000 ile 35,000 km arasında\n",
        "    (cars['Fuel_Type'] == 'Petrol') &\n",
        "    (cars['Transmission'] == 'Manual') &\n",
        "    (cars['Owner_Type'] == 'First')\n",
        "]\n",
        "\n",
        "# Gerçek fiyatı görüntüle\n",
        "gercek_fiyatlar = benzer_arabalar['Price'].to_string(index=False)\n",
        "print(gercek_fiyatlar)"
      ],
      "metadata": {
        "colab": {
          "base_uri": "https://localhost:8080/"
        },
        "id": "ONAvK60DXEfU",
        "outputId": "a9ebc865-fe43-49d5-9259-4fab379d39ab"
      },
      "execution_count": 104,
      "outputs": [
        {
          "output_type": "stream",
          "name": "stdout",
          "text": [
            " 4.95\n",
            " 5.00\n",
            " 2.44\n",
            " 7.27\n",
            " 7.95\n",
            " 6.58\n",
            " 3.55\n",
            "14.60\n",
            "11.00\n",
            " 6.37\n",
            " 4.50\n"
          ]
        }
      ]
    }
  ]
}